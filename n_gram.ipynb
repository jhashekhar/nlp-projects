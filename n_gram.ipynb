{
  "nbformat": 4,
  "nbformat_minor": 0,
  "metadata": {
    "colab": {
      "name": "n-gram.ipynb",
      "provenance": [],
      "include_colab_link": true
    },
    "kernelspec": {
      "name": "python3",
      "display_name": "Python 3"
    }
  },
  "cells": [
    {
      "cell_type": "markdown",
      "metadata": {
        "id": "view-in-github",
        "colab_type": "text"
      },
      "source": [
        "<a href=\"https://colab.research.google.com/github/jhashekhar/nlp-projects/blob/master/n_gram.ipynb\" target=\"_parent\"><img src=\"https://colab.research.google.com/assets/colab-badge.svg\" alt=\"Open In Colab\"/></a>"
      ]
    },
    {
      "cell_type": "code",
      "metadata": {
        "id": "IC-HxwE85UHK",
        "colab_type": "code",
        "colab": {
          "base_uri": "https://localhost:8080/",
          "height": 102
        },
        "outputId": "e54ca2e8-f5fa-4b16-b27d-e94235d3a77e"
      },
      "source": [
        "corpus = ['he is a king',\n",
        "          'she is a good programmer',\n",
        "          'Gagan is a chef',\n",
        "          'london is capital of England',\n",
        "          'Ottawa is capital of Canada']\n",
        "\n",
        "def tokenize_corpus(corpus):\n",
        "  tokens = [x.split() for x in corpus]\n",
        "  return tokens \n",
        "\n",
        "tokenized_corpus = tokenize_corpus(corpus)\n",
        "tokenized_corpus"
      ],
      "execution_count": 12,
      "outputs": [
        {
          "output_type": "execute_result",
          "data": {
            "text/plain": [
              "[['he', 'is', 'a', 'king'],\n",
              " ['she', 'is', 'a', 'good', 'programmer'],\n",
              " ['Gagan', 'is', 'a', 'chef'],\n",
              " ['london', 'is', 'capital', 'of', 'England'],\n",
              " ['Ottawa', 'is', 'capital', 'of', 'Canada']]"
            ]
          },
          "metadata": {
            "tags": []
          },
          "execution_count": 12
        }
      ]
    },
    {
      "cell_type": "code",
      "metadata": {
        "id": "5BMZG0zruA1s",
        "colab_type": "code",
        "colab": {
          "base_uri": "https://localhost:8080/",
          "height": 34
        },
        "outputId": "099fee95-a2e2-48bd-a2c6-610e108d4276"
      },
      "source": [
        "import torch\n",
        "import torch.nn as nn\n",
        "import torch.nn.functional as F\n",
        "import torch.optim as optim\n",
        "\n",
        "torch.manual_seed(1)"
      ],
      "execution_count": 11,
      "outputs": [
        {
          "output_type": "execute_result",
          "data": {
            "text/plain": [
              "<torch._C.Generator at 0x7fe0d0b9f390>"
            ]
          },
          "metadata": {
            "tags": []
          },
          "execution_count": 11
        }
      ]
    },
    {
      "cell_type": "code",
      "metadata": {
        "id": "2oH_I9Mb6DvS",
        "colab_type": "code",
        "colab": {
          "base_uri": "https://localhost:8080/",
          "height": 51
        },
        "outputId": "eed958d2-d8bb-44ea-a849-e6439819692d"
      },
      "source": [
        "word_to_idx = {\"hello\": 0, \"world\": 1}\n",
        "# 2 words in vocab and 5 dimensional embeddings\n",
        "# word embeddings are a representation of the semantics of a word, efficiently\n",
        "# encoding semantic information that might be relevant to the task at hand.\n",
        "embeds = nn.Embedding(2, 5)\n",
        "lookup_tensor = torch.tensor([word_to_idx[\"hello\"]], dtype=torch.long)\n",
        "hello_embed = embeds(lookup_tensor)\n",
        "print(hello_embed)"
      ],
      "execution_count": 13,
      "outputs": [
        {
          "output_type": "stream",
          "text": [
            "tensor([[ 0.6614,  0.2669,  0.0617,  0.6213, -0.4519]],\n",
            "       grad_fn=<EmbeddingBackward>)\n"
          ],
          "name": "stdout"
        }
      ]
    },
    {
      "cell_type": "code",
      "metadata": {
        "id": "whVVc5PtG51o",
        "colab_type": "code",
        "colab": {
          "base_uri": "https://localhost:8080/",
          "height": 34
        },
        "outputId": "4e54dc64-5a0f-49ea-9c4b-cfa1be8f325d"
      },
      "source": [
        "CONTEXT_SIZE = 2\n",
        "EMBEDDING_DIM = 10\n",
        "\n",
        "# We will use Shakespeare Sonnet 2\n",
        "test_sentence = \"\"\"When forty winters shall besiege thy brow, \n",
        "And dig deep trenches in thy beauty's field,\n",
        "Thy youth's proud livery so gazed on now,\n",
        "Will be a totter'd weed of small worth held:\n",
        "Then being asked, where all thy beauty lies,\n",
        "Where all the treasure of thy lusty days;\n",
        "To say, within thine own deep sunken eyes,\n",
        "Were an all-eating shame, and thriftless praise.\n",
        "How much more praise deserv'd thy beauty's use,\n",
        "If thou couldst answer 'This fair child of mine\n",
        "Shall sum my count, and make my old excuse,'\n",
        "Proving his beauty by succession thine!\n",
        "This were to be new made when thou art old,\n",
        "And see thy blood warm when thou feel'st it cold.\"\"\".split()\n",
        "\n",
        "# we should tokenize the input, but we will ignore that for now\n",
        "# build a list of tuples. Each tuple is ([ word_i-2, word_i-1 ], target word)\n",
        "trigrams = [([test_sentence[i], test_sentence[i+1]], test_sentence[i+2])\n",
        "            for i in range(len(test_sentence) - 2)]\n",
        "\n",
        "print(trigrams[:3])"
      ],
      "execution_count": 20,
      "outputs": [
        {
          "output_type": "stream",
          "text": [
            "[(['When', 'forty'], 'winters'), (['forty', 'winters'], 'shall'), (['winters', 'shall'], 'besiege')]\n"
          ],
          "name": "stdout"
        }
      ]
    },
    {
      "cell_type": "code",
      "metadata": {
        "id": "gsgqgsfwPWyf",
        "colab_type": "code",
        "colab": {}
      },
      "source": [
        "vocab = set(test_sentence)\n",
        "word_to_idx = {word: i for i, word in enumerate(vocab)}"
      ],
      "execution_count": 0,
      "outputs": []
    },
    {
      "cell_type": "code",
      "metadata": {
        "id": "dikrHqHmT1YF",
        "colab_type": "code",
        "colab": {}
      },
      "source": [
        "class NGramLanguageModeler(nn.Module):\n",
        "  def __init__(self, vocab_size, embedding_dim, context_size):\n",
        "    super().__init__()\n",
        "    self.embeddings = nn.Embedding(vocab_size, embedding_dim)\n",
        "    self.fc1 = nn.Linear(context_size * embedding_dim, 128)\n",
        "    self.fc2 = nn.Linear(128, vocab_size)\n",
        "  \n",
        "  def forward(self, inputs):\n",
        "    embeds = self.embeddings(inputs).view((1, -1))\n",
        "    out = F.relu(self.fc1(embeds))\n",
        "    out = self.fc2(out)\n",
        "    log_probs = F.log_softmax(out, dim=1)\n",
        "    return log_probs\n",
        "\n",
        "criterion = nn.NLLLoss()\n",
        "model = NGramLanguageModeler(len(vocab), EMBEDDING_DIM, CONTEXT_SIZE)\n",
        "optimizer = optim.SGD(model.parameters(), lr=0.001)"
      ],
      "execution_count": 0,
      "outputs": []
    },
    {
      "cell_type": "code",
      "metadata": {
        "id": "2ZQMum6x_2Tx",
        "colab_type": "code",
        "colab": {
          "base_uri": "https://localhost:8080/",
          "height": 54
        },
        "outputId": "2477c400-7077-41b7-e731-b268966146c1"
      },
      "source": [
        "losses = []\n",
        "\n",
        "for epoch in range(10):\n",
        "  total_loss = 0.0\n",
        "  for context, target in trigrams:\n",
        "\n",
        "    context_idxs = torch.tensor([word_to_idx[w] for w in context], dtype=torch.long)\n",
        "    model.zero_grad()\n",
        "    log_probs = model(context_idxs)\n",
        "    loss = criterion(log_probs, torch.tensor([word_to_idx[target]], dtype=torch.long))\n",
        "    loss.backward()\n",
        "    optimizer.step()\n",
        "    total_loss += loss.item()\n",
        "  losses.append(total_loss)\n",
        "  \n",
        "print(losses)"
      ],
      "execution_count": 37,
      "outputs": [
        {
          "output_type": "stream",
          "text": [
            "[160.93199169635773, 158.75936841964722, 156.60798907279968, 154.4789187014103, 152.37201884388924, 150.28672191500664, 148.22367069125175, 146.18378630280495, 144.16628995537758, 142.1713998913765]\n"
          ],
          "name": "stdout"
        }
      ]
    }
  ]
}